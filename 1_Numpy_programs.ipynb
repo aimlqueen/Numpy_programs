{
 "cells": [
  {
   "cell_type": "code",
   "execution_count": 1,
   "id": "17f13816-8079-4dc0-8a3c-a6135245d6f5",
   "metadata": {},
   "outputs": [
    {
     "name": "stdout",
     "output_type": "stream",
     "text": [
      "45\n"
     ]
    }
   ],
   "source": [
    "# 0 D array\n",
    "import numpy as np\n",
    "a=np.array(45)\n",
    "print(a)"
   ]
  },
  {
   "cell_type": "code",
   "execution_count": 5,
   "id": "e36888e1-f7df-41a7-8dd4-1b95071d0af7",
   "metadata": {},
   "outputs": [
    {
     "name": "stdout",
     "output_type": "stream",
     "text": [
      "[1 2 3]\n"
     ]
    }
   ],
   "source": [
    "# 1 D array\n",
    "b=np.array([1,2,3])\n",
    "print(b)"
   ]
  },
  {
   "cell_type": "code",
   "execution_count": 9,
   "id": "c9ca9e5c-4c74-4a4c-962d-a909275fc75d",
   "metadata": {},
   "outputs": [
    {
     "name": "stdout",
     "output_type": "stream",
     "text": [
      "[[1 2]\n",
      " [3 4]\n",
      " [5 6]]\n"
     ]
    }
   ],
   "source": [
    "# 2 D array\n",
    "c=np.array([[1,2],[3,4],[5,6]])\n",
    "print(c)"
   ]
  },
  {
   "cell_type": "code",
   "execution_count": 15,
   "id": "95d47bb8-53e9-455c-a923-00aa5e3c4764",
   "metadata": {},
   "outputs": [
    {
     "name": "stdout",
     "output_type": "stream",
     "text": [
      "[[[2 4 5]\n",
      "  [3 2 1]]]\n"
     ]
    }
   ],
   "source": [
    "# 3 D array\n",
    "d=np.array([[[2,4,5],[3,2,1]]])\n",
    "print(d)"
   ]
  },
  {
   "cell_type": "code",
   "execution_count": 25,
   "id": "58b8bc8e-0431-475e-80db-f1b839d0f059",
   "metadata": {},
   "outputs": [
    {
     "name": "stdout",
     "output_type": "stream",
     "text": [
      "[[[[[1 2 3]]]]]\n",
      "5 dimension array\n"
     ]
    }
   ],
   "source": [
    "# higher dimensional array\n",
    "e=np.array([1,2,3],ndmin=5)\n",
    "print(e)\n",
    "print(e.ndim,\"dimension array\")"
   ]
  },
  {
   "cell_type": "code",
   "execution_count": 29,
   "id": "4fbdc446-afa9-43bc-928f-d0c4f3739882",
   "metadata": {},
   "outputs": [
    {
     "name": "stdout",
     "output_type": "stream",
     "text": [
      "1\n"
     ]
    }
   ],
   "source": [
    "# access array elements in 1D array\n",
    "f=np.array([1,2,3])\n",
    "print(f[0])"
   ]
  },
  {
   "cell_type": "code",
   "execution_count": 31,
   "id": "a240be72-b3a2-4900-aabb-83bdb1308104",
   "metadata": {},
   "outputs": [
    {
     "name": "stdout",
     "output_type": "stream",
     "text": [
      "8\n"
     ]
    }
   ],
   "source": [
    "# access array elements in 2D array\n",
    "g=np.array([[1,2,3],[4,5,6],[7,8,9]])\n",
    "print(g[2,1])"
   ]
  },
  {
   "cell_type": "code",
   "execution_count": 47,
   "id": "cc1b7127-a00f-4c04-be89-f4588d0cce5f",
   "metadata": {},
   "outputs": [
    {
     "name": "stdout",
     "output_type": "stream",
     "text": [
      "8\n",
      "3\n"
     ]
    }
   ],
   "source": [
    "# access array elements in 3D array\n",
    "h=np.array([[[1,2,3],[4,5,6],[7,8,9]]])\n",
    "print(h[0,2,1])\n",
    "print(h.ndim)"
   ]
  },
  {
   "cell_type": "code",
   "execution_count": 61,
   "id": "38a51ddc-121b-4a66-8f0a-e520df44ddf4",
   "metadata": {},
   "outputs": [
    {
     "name": "stdout",
     "output_type": "stream",
     "text": [
      "2\n",
      "3\n"
     ]
    }
   ],
   "source": [
    "# access array elements in 3D array\n",
    "h=np.array([\n",
    "    [\n",
    "        [1,2,3],[4,5,6]\n",
    "    ],\n",
    "    [\n",
    "        [7,8,9],[1,2,3]\n",
    "    ]\n",
    "])\n",
    "print(h[1,1,1])\n",
    "print(h.ndim)"
   ]
  },
  {
   "cell_type": "code",
   "execution_count": 67,
   "id": "34ba4610-5082-4fc6-a401-d1ec64fcb8ae",
   "metadata": {},
   "outputs": [
    {
     "name": "stdout",
     "output_type": "stream",
     "text": [
      "1\n"
     ]
    }
   ],
   "source": [
    "# negative indexing\n",
    "h=np.array([\n",
    "    [\n",
    "        [1,2,3],[4,5,6]\n",
    "    ],\n",
    "    [\n",
    "        [7,8,9],[1,2,3]\n",
    "    ]\n",
    "])\n",
    "print(h[1,1,-3])"
   ]
  },
  {
   "cell_type": "code",
   "execution_count": 11,
   "id": "e32ae42e-b879-4c4d-bc12-b2727c86c96d",
   "metadata": {},
   "outputs": [
    {
     "name": "stdout",
     "output_type": "stream",
     "text": [
      "[2 3 4 5]\n"
     ]
    }
   ],
   "source": [
    "# array slicing\n",
    "a=np.array([1,2,3,4,5])\n",
    "print(a[1:5])"
   ]
  },
  {
   "cell_type": "code",
   "execution_count": 13,
   "id": "2d9f6d84-50b4-42b3-a8cc-95993887989b",
   "metadata": {},
   "outputs": [
    {
     "name": "stdout",
     "output_type": "stream",
     "text": [
      "[2 4]\n"
     ]
    }
   ],
   "source": [
    "# array slicing with step by 2\n",
    "a=np.array([1,2,3,4,5])\n",
    "print(a[1:5:2])"
   ]
  },
  {
   "cell_type": "code",
   "execution_count": 35,
   "id": "128cf309-1fb7-4415-bfba-0cbffddd01a2",
   "metadata": {},
   "outputs": [
    {
     "name": "stdout",
     "output_type": "stream",
     "text": [
      "[1 3 5]\n"
     ]
    }
   ],
   "source": [
    "# revere array\n",
    "a=np.array([1,2,3,4,5])\n",
    "print(a[::-1])"
   ]
  },
  {
   "cell_type": "code",
   "execution_count": 41,
   "id": "797c5536-d20d-46f2-aa5f-f6f999f57b5e",
   "metadata": {},
   "outputs": [
    {
     "name": "stdout",
     "output_type": "stream",
     "text": [
      "[31  4]\n"
     ]
    }
   ],
   "source": [
    "# slicing another way\n",
    "a=np.array([[1,2,3,4,5],[2,31,4,5,4]])\n",
    "print(a[1,1:3])"
   ]
  },
  {
   "cell_type": "code",
   "execution_count": 45,
   "id": "12193736-8835-497a-95b3-74db9b4760fa",
   "metadata": {},
   "outputs": [
    {
     "name": "stdout",
     "output_type": "stream",
     "text": [
      "[4]\n"
     ]
    }
   ],
   "source": [
    "# slicing another way\n",
    "a=np.array([[1,2,3,4,5],[2,31,4,5,4]])\n",
    "print(a[1:3,2])"
   ]
  },
  {
   "cell_type": "code",
   "execution_count": 39,
   "id": "2b4f08a2-9655-4498-a21a-f84ed5786013",
   "metadata": {},
   "outputs": [
    {
     "name": "stdout",
     "output_type": "stream",
     "text": [
      "[[  1   2   3 114   5]]\n"
     ]
    }
   ],
   "source": [
    "# slicing another way\n",
    "a=np.array([[1,2,3,114,5],[2,31,41,15,4]])\n",
    "print(a[::2])"
   ]
  },
  {
   "cell_type": "code",
   "execution_count": 47,
   "id": "6ad3da41-3651-448b-a4b6-2f43ed091593",
   "metadata": {},
   "outputs": [
    {
     "name": "stdout",
     "output_type": "stream",
     "text": [
      "[[  2   3 114]\n",
      " [ 31  41  15]]\n"
     ]
    }
   ],
   "source": [
    "a=np.array([[1,2,3,114,5],[2,31,41,15,4]])\n",
    "print(a[0:2,1:4])"
   ]
  },
  {
   "cell_type": "code",
   "execution_count": 55,
   "id": "be3ee347-f358-4bd7-844a-61b1678cd9cd",
   "metadata": {},
   "outputs": [
    {
     "name": "stdout",
     "output_type": "stream",
     "text": [
      "int32\n",
      "<U6\n",
      "float64\n"
     ]
    }
   ],
   "source": [
    "a=np.array([1,3,5,3])\n",
    "print(a.dtype)\n",
    "b=np.array(['apple','banana'])\n",
    "print(b.dtype)# unicode string\n",
    "c=np.array([1.2,4.3])\n",
    "print(c.dtype)"
   ]
  },
  {
   "cell_type": "code",
   "execution_count": 71,
   "id": "a9b2119e-97c5-4d40-acd4-c73396e64037",
   "metadata": {},
   "outputs": [
    {
     "name": "stdout",
     "output_type": "stream",
     "text": [
      "float64\n",
      "int32\n",
      "|S32\n",
      "bool\n",
      "|S1\n",
      "timedelta64\n",
      "<U32\n"
     ]
    }
   ],
   "source": [
    "# convert dataype\n",
    "c=np.array([1.2,4.3])\n",
    "print(c.dtype)\n",
    "# integer\n",
    "d=c.astype('i')\n",
    "print(d.dtype)\n",
    "# string\n",
    "d=c.astype('S')\n",
    "print(d.dtype)\n",
    "# boolean\n",
    "d=c.astype('bool')\n",
    "print(d.dtype)\n",
    "# comples\n",
    "d=c.astype('c')\n",
    "print(d.dtype)\n",
    "# time delta\n",
    "d=c.astype('m')\n",
    "print(d.dtype)\n",
    "# unicode\n",
    "d=c.astype('U')\n",
    "print(d.dtype)\n"
   ]
  },
  {
   "cell_type": "code",
   "execution_count": 75,
   "id": "94c5ce27-43c5-4985-bd8a-0c4f27e80fad",
   "metadata": {},
   "outputs": [
    {
     "name": "stdout",
     "output_type": "stream",
     "text": [
      "[1 2 3]\n"
     ]
    }
   ],
   "source": [
    "# copy array\n",
    "a=np.array([1,2,3])\n",
    "b=a.copy()\n",
    "print(b)"
   ]
  },
  {
   "cell_type": "code",
   "execution_count": 77,
   "id": "51c6fc07-0e70-4998-aa63-ba47405eab87",
   "metadata": {},
   "outputs": [
    {
     "name": "stdout",
     "output_type": "stream",
     "text": [
      "[1 2 3]\n"
     ]
    }
   ],
   "source": [
    "a=np.array([1,2,3])\n",
    "b=a.view()\n",
    "print(b)"
   ]
  },
  {
   "cell_type": "code",
   "execution_count": 80,
   "id": "cfc7cbdf-ad86-4862-95b0-99c9baa5a25a",
   "metadata": {},
   "outputs": [
    {
     "name": "stdout",
     "output_type": "stream",
     "text": [
      "[100   2   3]\n"
     ]
    }
   ],
   "source": [
    "a=np.array([1,2,3])\n",
    "a[0]=100\n",
    "print(a)"
   ]
  },
  {
   "cell_type": "code",
   "execution_count": 88,
   "id": "b3ced069-98f4-449e-a724-49f8d6cf34c9",
   "metadata": {},
   "outputs": [
    {
     "name": "stdout",
     "output_type": "stream",
     "text": [
      "[100   2   3]\n",
      "[100   2   3]\n"
     ]
    }
   ],
   "source": [
    "a=np.array([1,2,3])\n",
    "b=a.view()\n",
    "a[0]=100\n",
    "print(a)\n",
    "print(b)"
   ]
  },
  {
   "cell_type": "code",
   "execution_count": 93,
   "id": "adba402a-4b54-4782-b00d-8368b51726ed",
   "metadata": {},
   "outputs": [
    {
     "name": "stdout",
     "output_type": "stream",
     "text": [
      "[100   2   3]\n",
      "[1 2 3]\n"
     ]
    }
   ],
   "source": [
    "a=np.array([1,2,3])\n",
    "b=a.copy()\n",
    "a[0]=100\n",
    "print(a)\n",
    "print(b)"
   ]
  },
  {
   "cell_type": "code",
   "execution_count": 107,
   "id": "dc43ba90-80aa-4a08-bfc5-32192c074006",
   "metadata": {},
   "outputs": [
    {
     "name": "stdout",
     "output_type": "stream",
     "text": [
      "(2, 3)\n",
      "[[1 2]\n",
      " [3 3]\n",
      " [4 5]]\n"
     ]
    }
   ],
   "source": [
    "a=np.array([[1,2,3],[3,4,5]])\n",
    "# to find order of array\n",
    "print(a.shape)\n",
    "# to change order of array\n",
    "b=a.reshape(3,2)\n",
    "print(b)"
   ]
  },
  {
   "cell_type": "code",
   "execution_count": 129,
   "id": "44e1fa15-3158-462e-a76c-8162207a5a40",
   "metadata": {},
   "outputs": [
    {
     "name": "stdout",
     "output_type": "stream",
     "text": [
      "[ 1  2  3  4  5  6  7  8  9 12]\n",
      "[[[ 1]\n",
      "  [ 2]]\n",
      "\n",
      " [[ 3]\n",
      "  [ 4]]\n",
      "\n",
      " [[ 5]\n",
      "  [ 6]]\n",
      "\n",
      " [[ 7]\n",
      "  [ 8]]\n",
      "\n",
      " [[ 9]\n",
      "  [12]]]\n"
     ]
    }
   ],
   "source": [
    "a=np.array([1,2,3,4,5,6,7,8,9,12])\n",
    "print(a)\n",
    "b=a.reshape(5,2,1)\n",
    "print(b)"
   ]
  },
  {
   "cell_type": "code",
   "execution_count": 131,
   "id": "107f8636-d193-4d8c-bab1-e8e924946f8c",
   "metadata": {},
   "outputs": [
    {
     "name": "stdout",
     "output_type": "stream",
     "text": [
      "[ 1  2  3  4  5  6  7  8  9 12]\n",
      "[[[ 1]\n",
      "  [ 2]]\n",
      "\n",
      " [[ 3]\n",
      "  [ 4]]\n",
      "\n",
      " [[ 5]\n",
      "  [ 6]]\n",
      "\n",
      " [[ 7]\n",
      "  [ 8]]\n",
      "\n",
      " [[ 9]\n",
      "  [12]]]\n"
     ]
    }
   ],
   "source": [
    "a=np.array([1,2,3,4,5,6,7,8,9,12])\n",
    "print(a)\n",
    "b=a.reshape(5,2,-1)\n",
    "print(b)"
   ]
  },
  {
   "cell_type": "code",
   "execution_count": 139,
   "id": "e696a18d-bb42-4a04-8947-a30e217d16ca",
   "metadata": {},
   "outputs": [
    {
     "name": "stdout",
     "output_type": "stream",
     "text": [
      "[[ 1  2  3  4  5]\n",
      " [ 6  7  8  9 12]]\n",
      "[ 1  2  3  4  5  6  7  8  9 12]\n"
     ]
    }
   ],
   "source": [
    "a=np.array([[1,2,3,4,5],[6,7,8,9,12]])\n",
    "print(a)\n",
    "b=a.reshape(-1)\n",
    "print(b)"
   ]
  },
  {
   "cell_type": "code",
   "execution_count": 143,
   "id": "cb258932-1a77-460d-9fcd-85d3f912c8af",
   "metadata": {},
   "outputs": [
    {
     "name": "stdout",
     "output_type": "stream",
     "text": [
      "1\n",
      "2\n",
      "3\n",
      "4\n",
      "5\n"
     ]
    }
   ],
   "source": [
    "a=np.array([1,2,3,4,5])\n",
    "for i in a:\n",
    "    print(i)"
   ]
  },
  {
   "cell_type": "code",
   "execution_count": 147,
   "id": "9db69ebb-17ce-47a5-91f9-a05b482e44ef",
   "metadata": {},
   "outputs": [
    {
     "name": "stdout",
     "output_type": "stream",
     "text": [
      "[1 2 3 4 5]\n",
      "[ 6  7  8  9 12]\n"
     ]
    }
   ],
   "source": [
    "a=np.array([[1,2,3,4,5],[6,7,8,9,12]])\n",
    "for i in a:\n",
    "    print(i)"
   ]
  },
  {
   "cell_type": "code",
   "execution_count": 153,
   "id": "9154fddc-e4a9-4e1a-9c0a-48988d6b5863",
   "metadata": {},
   "outputs": [
    {
     "name": "stdout",
     "output_type": "stream",
     "text": [
      "1\n",
      "2\n",
      "3\n",
      "4\n",
      "5\n",
      "6\n",
      "7\n",
      "8\n",
      "9\n",
      "12\n"
     ]
    }
   ],
   "source": [
    "a=np.array([[1,2,3,4,5],[6,7,8,9,12]])\n",
    "for i in a:\n",
    "    for j in i:\n",
    "        print(j)"
   ]
  },
  {
   "cell_type": "code",
   "execution_count": 159,
   "id": "228e4057-6b5c-4658-8ecf-65e9d2d58fbc",
   "metadata": {},
   "outputs": [
    {
     "name": "stdout",
     "output_type": "stream",
     "text": [
      "1\n",
      "2\n",
      "3\n",
      "4\n",
      "5\n",
      "6\n",
      "7\n",
      "8\n",
      "9\n",
      "12\n"
     ]
    }
   ],
   "source": [
    "a=np.array([[1,2,3,4,5],[6,7,8,9,12]])\n",
    "for i in np.nditer(a):\n",
    "    print(i)"
   ]
  },
  {
   "cell_type": "code",
   "execution_count": 47,
   "id": "98269a46-1866-48aa-b10f-01f17ecff85e",
   "metadata": {},
   "outputs": [
    {
     "name": "stdout",
     "output_type": "stream",
     "text": [
      "[[ 1  2  3]\n",
      " [11 22 33]]\n",
      "Dimension: 2\n",
      "Datatype: int32\n",
      "-------------------------\n",
      "[[[ 1  2  3]\n",
      "  [11 22 33]]]\n",
      "Datatype: 3\n",
      "Array with changed datatype:\n",
      "[[[ 1.  2.  3.]\n",
      "  [11. 22. 33.]]]\n",
      "Datatype: float64\n"
     ]
    }
   ],
   "source": [
    "# find dimension and datatype of array\n",
    "import numpy as np\n",
    "a=np.array([[1,2,3],[11,22,33]])\n",
    "print(a)\n",
    "print(\"Dimension:\",a.ndim)\n",
    "print(\"Datatype:\",a.dtype)\n",
    "print(\"-------------------------\")\n",
    "# change 2D into 3D array\n",
    "b=a.reshape(1,2,3)\n",
    "print(b)\n",
    "print(\"Datatype:\",b.ndim)\n",
    "# change datatype\n",
    "c = b.astype(float)\n",
    "print(\"Array with changed datatype:\")\n",
    "print(c)\n",
    "print(\"Datatype:\", c.dtype)"
   ]
  },
  {
   "cell_type": "code",
   "execution_count": 56,
   "id": "0c2ed20a-0fbe-46dd-84ca-d2983516b68f",
   "metadata": {},
   "outputs": [
    {
     "name": "stdout",
     "output_type": "stream",
     "text": [
      "[[1 2 3]\n",
      " [4 5 6]]\n",
      "b'1'\n",
      "b'2'\n",
      "b'3'\n",
      "b'4'\n",
      "b'5'\n",
      "b'6'\n"
     ]
    }
   ],
   "source": [
    "a=np.array([[1,2,3],[4,5,6]])\n",
    "print(a)\n",
    "# nditer :  iterator to go through the array\n",
    "\n",
    "# flags=['buffered'] :allows the iterator to access elements in a buffered way, \n",
    "# which can improve performance when processing larger arrays\n",
    "\n",
    "# buffering helps speed up the processing of data by minimizing direct memory access \n",
    "# and optimizing how data is handled during iteration.\n",
    "\n",
    "# op_dtypes='S'  tells it to convert the numbers into byte strings\n",
    "\n",
    "for i in np.nditer(a,flags=['buffered'],op_dtypes='S'):\n",
    "    print(i)"
   ]
  },
  {
   "cell_type": "code",
   "execution_count": 70,
   "id": "caf61569-3277-4332-90a9-1b653c753ebc",
   "metadata": {},
   "outputs": [
    {
     "name": "stdout",
     "output_type": "stream",
     "text": [
      "(0,) 1\n",
      "(1,) 2\n",
      "(2,) 3\n",
      "_----------------_\n",
      "(0, 0) 1\n",
      "(0, 1) 2\n",
      "(0, 2) 3\n",
      "(1, 0) 4\n",
      "(1, 1) 5\n",
      "(1, 2) 6\n",
      "_----------------_\n",
      "(0, 0, 0) 1\n",
      "(0, 0, 1) 2\n",
      "(0, 0, 2) 3\n",
      "(0, 1, 0) 4\n",
      "(0, 1, 1) 5\n",
      "(0, 1, 2) 6\n",
      "(0, 2, 0) 42\n",
      "(0, 2, 1) 51\n",
      "(0, 2, 2) 61\n"
     ]
    }
   ],
   "source": [
    "# track of the indices of each element\n",
    "a=np.array([1,2,3])\n",
    "for i,j in np.ndenumerate(a):\n",
    "    print(i,j)\n",
    "print(\"_----------------_\")\n",
    "a=np.array([[1,2,3],[4,5,6]])\n",
    "for i,j in np.ndenumerate(a):\n",
    "    print(i,j)\n",
    "print(\"_----------------_\")\n",
    "a=np.array([[[1,2,3],[4,5,6],[42,51,61]]])\n",
    "for i,j in np.ndenumerate(a):\n",
    "    print(i,j)"
   ]
  },
  {
   "cell_type": "code",
   "execution_count": 106,
   "id": "1107c02c-a508-418c-91e8-9c17d5b3685f",
   "metadata": {},
   "outputs": [
    {
     "name": "stdout",
     "output_type": "stream",
     "text": [
      "[[5 6]\n",
      " [7 8]\n",
      " [1 2]\n",
      " [3 4]]\n"
     ]
    }
   ],
   "source": [
    "a = np.array([[1, 2], [3, 4]])\n",
    "b = np.array([[5, 6], [7, 8]])\n",
    "ab=np.concatenate((a,b))\n",
    "print(ab)"
   ]
  },
  {
   "cell_type": "code",
   "execution_count": 102,
   "id": "2a730288-b232-4441-8075-6bf318198b49",
   "metadata": {},
   "outputs": [
    {
     "name": "stdout",
     "output_type": "stream",
     "text": [
      "[[[5 6]\n",
      "  [7 8]]\n",
      "\n",
      " [[1 2]\n",
      "  [3 4]]]\n",
      "-----------------\n",
      "[[[5 6]\n",
      "  [1 2]]\n",
      "\n",
      " [[7 8]\n",
      "  [3 4]]]\n"
     ]
    }
   ],
   "source": [
    "\n",
    "a = np.array([[1, 2], [3, 4]])\n",
    "b = np.array([[5, 6], [7, 8]])\n",
    "\n",
    "# Stack along the  axis \n",
    "stacked = np.stack((b,a),axis=0)\n",
    "print(stacked)\n",
    "print(\"-----------------\")\n",
    "stacked = np.stack((b,a),axis=1)\n",
    "print(stacked)"
   ]
  },
  {
   "cell_type": "code",
   "execution_count": 110,
   "id": "6f920625-883f-4d9f-bc76-3177b57df3da",
   "metadata": {},
   "outputs": [
    {
     "name": "stdout",
     "output_type": "stream",
     "text": [
      "[[4 5 6]\n",
      " [1 2 3]]\n",
      "-----------------\n",
      "[[4 1]\n",
      " [5 2]\n",
      " [6 3]]\n"
     ]
    }
   ],
   "source": [
    "\n",
    "a = np.array([1,2,3])\n",
    "b = np.array([4,5,6])\n",
    "\n",
    "# Stack along the  axis \n",
    "stacked = np.stack((b,a),axis=0)\n",
    "print(stacked)\n",
    "print(\"-----------------\")\n",
    "stacked = np.stack((b,a),axis=1)\n",
    "print(stacked)"
   ]
  },
  {
   "cell_type": "code",
   "execution_count": 114,
   "id": "e4f27572-2305-4b56-b9d1-051a63e49047",
   "metadata": {},
   "outputs": [
    {
     "name": "stdout",
     "output_type": "stream",
     "text": [
      "[1 2 3 4 5 6]\n"
     ]
    }
   ],
   "source": [
    "a = np.array([1,2,3])\n",
    "b = np.array([4,5,6])\n",
    "ab=np.hstack((a,b))\n",
    "print(ab)"
   ]
  },
  {
   "cell_type": "code",
   "execution_count": 126,
   "id": "88e5ac11-611d-4cba-805d-c476ffa6395e",
   "metadata": {},
   "outputs": [
    {
     "name": "stdout",
     "output_type": "stream",
     "text": [
      "[[1 2 3]\n",
      " [4 5 6]]\n"
     ]
    }
   ],
   "source": [
    "a = np.array([1,2,3])\n",
    "b = np.array([4,5,6])\n",
    "ab=np.vstack((a,b))\n",
    "print(ab)"
   ]
  },
  {
   "cell_type": "code",
   "execution_count": 128,
   "id": "cff392d3-3130-478b-b8e5-60e6de08ada0",
   "metadata": {},
   "outputs": [
    {
     "name": "stdout",
     "output_type": "stream",
     "text": [
      "[[[1 4]\n",
      "  [2 5]\n",
      "  [3 6]]]\n"
     ]
    }
   ],
   "source": [
    "a = np.array([1,2,3])\n",
    "b = np.array([4,5,6])\n",
    "ab=np.dstack((a,b))\n",
    "print(ab)"
   ]
  },
  {
   "cell_type": "code",
   "execution_count": 132,
   "id": "5ef2a8aa-a4ae-4d32-b169-a0d981fdca2b",
   "metadata": {},
   "outputs": [
    {
     "name": "stdout",
     "output_type": "stream",
     "text": [
      "Concatenate: [1 2 3 4 5 6]\n",
      "Horizontal Stack: [1 2 3 4 5 6]\n",
      "Vertical Stack:\n",
      " [[1 2 3]\n",
      " [4 5 6]]\n",
      "Depth Stack:\n",
      " [[[1 4]\n",
      "  [2 5]\n",
      "  [3 6]]]\n",
      "Stack (axis=0):\n",
      " [[1 2 3]\n",
      " [4 5 6]]\n",
      "Stack (axis=1):\n",
      " [[1 4]\n",
      " [2 5]\n",
      " [3 6]]\n"
     ]
    }
   ],
   "source": [
    "a = np.array([1, 2, 3])\n",
    "b = np.array([4, 5, 6])\n",
    "# Concatenate\n",
    "concat_result = np.concatenate((a, b))\n",
    "print(\"Concatenate:\", concat_result)\n",
    "# Horizontal Stack\n",
    "hstack_result = np.hstack((a, b))\n",
    "print(\"Horizontal Stack:\", hstack_result)\n",
    "# Vertical Stack\n",
    "vstack_result = np.vstack((a, b))\n",
    "print(\"Vertical Stack:\\n\", vstack_result)\n",
    "# Depth Stack\n",
    "dstack_result = np.dstack((a, b))\n",
    "print(\"Depth Stack:\\n\", dstack_result)\n",
    "# Stack\n",
    "stack_result_axis0 = np.stack((a, b), axis=0)  # Shape (2, 3)\n",
    "print(\"Stack (axis=0):\\n\", stack_result_axis0)\n",
    "stack_result_axis1 = np.stack((a, b), axis=1)  # Shape (3, 2)\n",
    "print(\"Stack (axis=1):\\n\", stack_result_axis1)\n"
   ]
  },
  {
   "cell_type": "code",
   "execution_count": 150,
   "id": "c278447d-ac50-4c5a-b7da-d00f703f86ba",
   "metadata": {},
   "outputs": [
    {
     "name": "stdout",
     "output_type": "stream",
     "text": [
      "[array([1, 2]), array([3, 4]), array([5, 6])]\n"
     ]
    }
   ],
   "source": [
    "a=np.array([1,2,3,4,5,6])\n",
    "# split the array a into smaller sub-arrays\n",
    "b=np.array_split(a,3)\n",
    "print(b)"
   ]
  },
  {
   "cell_type": "code",
   "execution_count": 170,
   "id": "09880623-6b9a-41c0-919f-b03f922e96af",
   "metadata": {},
   "outputs": [
    {
     "name": "stdout",
     "output_type": "stream",
     "text": [
      "[array([[  1,   2],\n",
      "       [ 11, 223]]), array([[ 3,  4],\n",
      "       [43, 14]]), array([[ 5,  6],\n",
      "       [35, 16]])]\n"
     ]
    }
   ],
   "source": [
    "a=np.array([[1,2,3,4,5,6],[11,223,43,14,35,16]])\n",
    "# Split the array a into 3 parts along the second axis (columns)\n",
    "b = np.array_split(a,3, axis=1)\n",
    "print(b)"
   ]
  },
  {
   "cell_type": "code",
   "execution_count": 194,
   "id": "342ea81a-a67b-470c-88f0-8885c0451d09",
   "metadata": {},
   "outputs": [
    {
     "name": "stdout",
     "output_type": "stream",
     "text": [
      "[array([[[ 1,  2,  3]],\n",
      "\n",
      "       [[ 7,  8,  9]],\n",
      "\n",
      "       [[13, 14, 15]]]), array([[[ 4,  5,  6]],\n",
      "\n",
      "       [[10, 11, 12]],\n",
      "\n",
      "       [[16, 17, 18]]])]\n"
     ]
    }
   ],
   "source": [
    "a = np.array([\n",
    "    [[1, 2, 3], [4, 5, 6]],\n",
    "    [[7, 8, 9], [10, 11, 12]],\n",
    "    [[13, 14, 15], [16, 17, 18]]\n",
    "])\n",
    "b=np.array_split(a,2,axis=1)\n",
    "print(b)"
   ]
  },
  {
   "cell_type": "code",
   "execution_count": 208,
   "id": "369440d1-168b-4354-95be-5b6074e6304d",
   "metadata": {},
   "outputs": [
    {
     "name": "stdout",
     "output_type": "stream",
     "text": [
      "[array([[  1],\n",
      "       [ 11],\n",
      "       [211]]), array([[   2],\n",
      "       [ 223],\n",
      "       [2223]]), array([[  3],\n",
      "       [ 16],\n",
      "       [243]])]\n"
     ]
    }
   ],
   "source": [
    "a=np.array([[1,2,3],[11,223,16],[211,2223,243]])\n",
    "# Split the array a into 3 parts horizontaly\n",
    "b = np.hsplit(a,3)\n",
    "print(b)"
   ]
  },
  {
   "cell_type": "code",
   "execution_count": 243,
   "id": "ab14a3b9-62aa-42cd-b1b6-5a4f96e012e5",
   "metadata": {},
   "outputs": [
    {
     "name": "stdout",
     "output_type": "stream",
     "text": [
      "[ 1  2  3  4  4  9 22 51 55]\n"
     ]
    }
   ],
   "source": [
    "a=np.array([1,2,3,4,51,22,4,55,9])\n",
    "print(np.sort(a))"
   ]
  },
  {
   "cell_type": "code",
   "execution_count": 216,
   "id": "8aca2cb5-77be-4761-b0a2-fa3e4b494bde",
   "metadata": {},
   "outputs": [
    {
     "name": "stdout",
     "output_type": "stream",
     "text": [
      "[[[ 1  3 21]\n",
      "  [ 4  5  6]]\n",
      "\n",
      " [[ 7  8  9]\n",
      "  [10 11 12]]\n",
      "\n",
      " [[13 14 15]\n",
      "  [16 17 18]]]\n"
     ]
    }
   ],
   "source": [
    "a = np.array([\n",
    "    [[1, 21, 3], [4, 5, 6]],\n",
    "    [[7, 8, 9], [10, 11, 12]],\n",
    "    [[13, 14, 15], [16, 17, 18]]\n",
    "])\n",
    "print(np.sort(a))"
   ]
  },
  {
   "cell_type": "code",
   "execution_count": 228,
   "id": "9f723766-e061-46ed-9058-8d8e375e4f92",
   "metadata": {},
   "outputs": [
    {
     "name": "stdout",
     "output_type": "stream",
     "text": [
      "[[     1      2      3]\n",
      " [    11     16    223]\n",
      " [   243  22223 222211]]\n"
     ]
    }
   ],
   "source": [
    "a=np.array([[1,2,3],[11,223,16],[222211,22223,243]])\n",
    "print(np.sort(a))"
   ]
  },
  {
   "cell_type": "code",
   "execution_count": 224,
   "id": "d60e3542-f0a0-498e-a6e7-31e8e5a50dbb",
   "metadata": {},
   "outputs": [
    {
     "name": "stdout",
     "output_type": "stream",
     "text": [
      "['apple' 'banana' 'grapers']\n"
     ]
    }
   ],
   "source": [
    "a=np.array(['banana','apple','grapers'])\n",
    "print(np.sort(a))"
   ]
  },
  {
   "cell_type": "code",
   "execution_count": 232,
   "id": "f2771511-c42e-4e30-a84e-440b99636819",
   "metadata": {},
   "outputs": [
    {
     "name": "stdout",
     "output_type": "stream",
     "text": [
      "[False  True  True]\n"
     ]
    }
   ],
   "source": [
    "a=np.array([True,False,True])\n",
    "print(np.sort(a))"
   ]
  },
  {
   "cell_type": "code",
   "execution_count": 249,
   "id": "8df50dab-3307-4dbe-a85a-1d39a329ac13",
   "metadata": {},
   "outputs": [
    {
     "name": "stdout",
     "output_type": "stream",
     "text": [
      "[0 1 2 3 6 8 5 4 7]\n"
     ]
    }
   ],
   "source": [
    "# returns the indices that would sort an array\n",
    "a=np.array([1,2,3,4,51,22,4,55,9])\n",
    "print(np.argsort(a))"
   ]
  },
  {
   "cell_type": "code",
   "execution_count": 253,
   "id": "32619460-b33d-4161-a47a-db6dfd0eb519",
   "metadata": {},
   "outputs": [
    {
     "name": "stdout",
     "output_type": "stream",
     "text": [
      "[ 9 55  4 22 51  4  3  2  1]\n"
     ]
    }
   ],
   "source": [
    "# flip array \n",
    "a=np.array([1,2,3,4,51,22,4,55,9])\n",
    "print(np.flip(a))"
   ]
  },
  {
   "cell_type": "code",
   "execution_count": 257,
   "id": "2b2c7038-2893-40bc-ae48-feb9817de121",
   "metadata": {},
   "outputs": [
    {
     "name": "stdout",
     "output_type": "stream",
     "text": [
      "[1 4]\n"
     ]
    }
   ],
   "source": [
    "a=np.array([1,2,3,4])\n",
    "x=np.array([True,False,False,True])\n",
    "b=a[x]\n",
    "print(b)"
   ]
  },
  {
   "cell_type": "code",
   "execution_count": 24,
   "id": "163e80c3-3062-4cb8-8b14-54edbc0d5745",
   "metadata": {},
   "outputs": [
    {
     "name": "stdout",
     "output_type": "stream",
     "text": [
      "[0. 0.]\n",
      "1\n"
     ]
    }
   ],
   "source": [
    "# zeros matrix\n",
    "a=np.zeros((2))\n",
    "print(a)\n",
    "print(a.ndim)"
   ]
  },
  {
   "cell_type": "code",
   "execution_count": 16,
   "id": "5d315365-b249-43a5-afb4-9bc53452f943",
   "metadata": {},
   "outputs": [
    {
     "name": "stdout",
     "output_type": "stream",
     "text": [
      "[[0. 0.]\n",
      " [0. 0.]]\n",
      "2\n"
     ]
    }
   ],
   "source": [
    "# zeros matrix\n",
    "a=np.zeros((2,2))\n",
    "print(a)\n",
    "print(a.ndim)"
   ]
  },
  {
   "cell_type": "code",
   "execution_count": 22,
   "id": "0945c024-4745-4d0f-b4f8-5d80da6abfd6",
   "metadata": {},
   "outputs": [
    {
     "name": "stdout",
     "output_type": "stream",
     "text": [
      "[[[0. 0.]\n",
      "  [0. 0.]]\n",
      "\n",
      " [[0. 0.]\n",
      "  [0. 0.]]]\n",
      "3\n"
     ]
    }
   ],
   "source": [
    "# zeros matrix\n",
    "a=np.zeros((2,2,2))\n",
    "print(a)\n",
    "print(a.ndim)"
   ]
  },
  {
   "cell_type": "code",
   "execution_count": 30,
   "id": "eaff89ec-8ccb-49ec-a574-7c4723fd50c4",
   "metadata": {},
   "outputs": [
    {
     "name": "stdout",
     "output_type": "stream",
     "text": [
      "[ 2  5  8 11 14 17 20 23 26 29 32 35 38 41 44 47]\n"
     ]
    }
   ],
   "source": [
    "# arange()\n",
    "a=np.arange(2,50,3)\n",
    "print(a)"
   ]
  },
  {
   "cell_type": "code",
   "execution_count": 40,
   "id": "5eda6f5c-7582-4ae4-bc6a-d651948f1504",
   "metadata": {},
   "outputs": [
    {
     "name": "stdout",
     "output_type": "stream",
     "text": [
      "1D Array:\n",
      "[10 10 10 10 10]\n",
      "\n",
      "2D Array:\n",
      "[[10 10 10]\n",
      " [10 10 10]]\n",
      "\n",
      "3D Array:\n",
      "[[[10 10 10 10]\n",
      "  [10 10 10 10]\n",
      "  [10 10 10 10]]\n",
      "\n",
      " [[10 10 10 10]\n",
      "  [10 10 10 10]\n",
      "  [10 10 10 10]]]\n"
     ]
    }
   ],
   "source": [
    "# full matrix\n",
    "# Create a 1D array of length 5 filled with the value 10\n",
    "a_1d = np.full(5, 10)\n",
    "print(\"1D Array:\")\n",
    "print(a_1d)\n",
    "\n",
    "\n",
    "# Create a 2D array with shape (2, 3) filled with the value 10\n",
    "a=np.full((2,3),10)\n",
    "print(\"\\n2D Array:\")\n",
    "print(a)\n",
    "\n",
    "\n",
    "# Create a 3D array with shape (2, 3, 4) filled with the value 10\n",
    "a_3d = np.full((2, 3, 4), 10)\n",
    "print(\"\\n3D Array:\")\n",
    "print(a_3d)"
   ]
  },
  {
   "cell_type": "code",
   "execution_count": 46,
   "id": "b830403e-9abc-4b8a-b4a1-defd80f7a865",
   "metadata": {},
   "outputs": [
    {
     "name": "stdout",
     "output_type": "stream",
     "text": [
      "[2. 4. 6. 8.]\n"
     ]
    }
   ],
   "source": [
    "a=np.linspace(2,8,4)\n",
    "print(a)"
   ]
  },
  {
   "cell_type": "code",
   "execution_count": 48,
   "id": "d24f0c53-aa3e-495b-983c-14b005be70e7",
   "metadata": {},
   "outputs": [
    {
     "name": "stdout",
     "output_type": "stream",
     "text": [
      "[0.83943689 0.5027047  0.08766401 0.03482255 0.91464569]\n"
     ]
    }
   ],
   "source": [
    "a=np.random.random(5)\n",
    "print(a)"
   ]
  },
  {
   "cell_type": "code",
   "execution_count": 62,
   "id": "ea261483-5e85-4ac0-8a3d-b702aed9cb11",
   "metadata": {},
   "outputs": [
    {
     "name": "stdout",
     "output_type": "stream",
     "text": [
      "2\n",
      "4\n",
      "[6 5 5 7 7 5 7 5 6 6]\n",
      "[1 0 1 1 3 4 3 4 2 4 1 0 3 3 4 4 1 3 0 2 3 3 4 1 0 2 0 0 2 1 0 0 0 2 1 0 3\n",
      " 4 3 1 0 0 2 2 4 4 1 0 3 4 0 4 4 1 4 2 0 3 4 3 1 2 2 4 3 1 2 3 2 2 3 4 0 3\n",
      " 2 2 1 3 4 4 4 4 1 0 0 2 2 0 1 2 4 1 3 4 0 4 3 2 1 1]\n"
     ]
    }
   ],
   "source": [
    "a=np.random.randint(5)\n",
    "print(a)\n",
    "a=np.random.randint(3,5)\n",
    "print(a)\n",
    "a=np.random.randint(5,8,10)\n",
    "print(a)\n",
    "a=np.random.randint(5,size=(100))\n",
    "print(a)"
   ]
  },
  {
   "cell_type": "code",
   "execution_count": 70,
   "id": "6f139853-4109-4097-8fbb-9f27b532d770",
   "metadata": {},
   "outputs": [
    {
     "name": "stdout",
     "output_type": "stream",
     "text": [
      "[2 0 2 4 3 2 3 4 2 0 4 0 1 4 0 2 1 4 0 1 4 3 1 3 1 0 0 0 3 3 1 0 0 4 4 1 3\n",
      " 0 2 3 1 2 3 2 2 2 2 2 1 1 4 1 0 2 1 0 0 3 0 3 3 4 4 3 4 3 3 1 0 2 3 2 2 0\n",
      " 0 1 3 3 1 3 4 4 0 2 4 2 1 2 4 3 3 1 0 2 2 4 3 2 1 4]\n"
     ]
    }
   ],
   "source": [
    "import numpy.random as r\n",
    "a=r.randint(5,size=(100))\n",
    "print(a)"
   ]
  },
  {
   "cell_type": "code",
   "execution_count": 68,
   "id": "451e9699-6205-45bb-98bc-68d3b6391ae1",
   "metadata": {},
   "outputs": [
    {
     "name": "stdout",
     "output_type": "stream",
     "text": [
      "[4 4 3 1 0 1 3 4 0 3 2 1 3 2 1 3 3 3 2 1 1 4 0 4 4 3 2 2 2 3 3 0 4 1 1 3 4\n",
      " 1 2 3 0 3 4 1 1 2 2 3 2 1 2 4 0 2 0 2 4 1 3 0 2 1 1 3 0 0 3 3 2 0 4 2 2 0\n",
      " 3 2 0 2 1 2 1 1 4 2 1 2 2 0 4 0 2 0 2 2 0 2 4 4 2 2]\n"
     ]
    }
   ],
   "source": [
    "from numpy import random\n",
    "a=random.randint(5,size=(100))\n",
    "print(a)"
   ]
  },
  {
   "cell_type": "code",
   "execution_count": 79,
   "id": "f7a69f54-068a-4e97-931c-31852b7e2b36",
   "metadata": {},
   "outputs": [
    {
     "name": "stdout",
     "output_type": "stream",
     "text": [
      "[[9 6]\n",
      " [7 7]]\n",
      "Number of dimensions: 2\n",
      "1D Array:\n",
      "[7 5 8 8 5]\n",
      "Number of dimensions: 1\n",
      "\n",
      "3D Array:\n",
      "[[[7 8 3 4]\n",
      "  [6 8 7 2]\n",
      "  [3 7 9 2]]\n",
      "\n",
      " [[6 6 7 2]\n",
      "  [3 2 7 2]\n",
      "  [6 4 6 7]]]\n",
      "Number of dimensions: 3\n"
     ]
    }
   ],
   "source": [
    "import numpy.random as r\n",
    "\n",
    "# Create a 2D array of random integers between 2 and 10 with shape (2, 2)\n",
    "a = r.randint(2, 10, (2, 2))\n",
    "print(a)\n",
    "print(\"Number of dimensions:\", a.ndim)\n",
    "# Create a 1D array of random integers between 2 and 10 with length 5\n",
    "a_1d = r.randint(2, 10, 5)\n",
    "print(\"1D Array:\")\n",
    "print(a_1d)\n",
    "print(\"Number of dimensions:\", a_1d.ndim)\n",
    "# Create a 3D array of random integers between 2 and 10 with shape (2, 3, 4)\n",
    "a_3d = r.randint(2, 10, (2, 3, 4))\n",
    "print(\"\\n3D Array:\")\n",
    "print(a_3d)\n",
    "print(\"Number of dimensions:\", a_3d.ndim)\n"
   ]
  },
  {
   "cell_type": "code",
   "execution_count": 89,
   "id": "77d33e2f-3f25-469b-a09b-eeaebbbd13cd",
   "metadata": {},
   "outputs": [
    {
     "name": "stdout",
     "output_type": "stream",
     "text": [
      "(3, 4)\n"
     ]
    }
   ],
   "source": [
    "# find order of array\n",
    "import numpy as np\n",
    "a = np.array([[6, 6, 7, 2],\n",
    "              [3, 2, 7, 2],\n",
    "              [6, 4, 6, 7]])\n",
    "print(a.shape)"
   ]
  },
  {
   "cell_type": "code",
   "execution_count": 95,
   "id": "be471f19-3a56-4389-a57e-9b7d7f4acb03",
   "metadata": {},
   "outputs": [
    {
     "name": "stdout",
     "output_type": "stream",
     "text": [
      "12\n",
      "4\n",
      "2\n",
      "48\n"
     ]
    }
   ],
   "source": [
    "print(a.size)\n",
    "print(a.itemsize)\n",
    "print(a.ndim)\n",
    "print(a.nbytes)"
   ]
  },
  {
   "cell_type": "code",
   "execution_count": 103,
   "id": "e7a34688-5144-4566-bff4-3ccea6d04da7",
   "metadata": {},
   "outputs": [
    {
     "name": "stdout",
     "output_type": "stream",
     "text": [
      "[ 1  2 34  2 44]\n",
      "[ 1 22  2 34  2]\n"
     ]
    }
   ],
   "source": [
    "# np.append() adds elements to the end of the array.\n",
    "# np.insert() adds elements at a specified index, and it does not require the axis parameter for 1D arrays.\n",
    "a=np.array([1,2,34,2])\n",
    "b=np.append(a,44)\n",
    "print(b)\n",
    "c=np.insert(a,1,22,axis=0)\n",
    "print(c)"
   ]
  },
  {
   "cell_type": "code",
   "execution_count": 109,
   "id": "6fc6d36f-11c1-4a40-a780-b9af222ade26",
   "metadata": {},
   "outputs": [
    {
     "name": "stdout",
     "output_type": "stream",
     "text": [
      "Original 2D Array:\n",
      "[[ 1  2]\n",
      " [34  2]]\n",
      "\n",
      "After Appending Row:\n",
      "[[ 1  2]\n",
      " [34  2]\n",
      " [44 45]]\n",
      "\n",
      "After Appending Column:\n",
      "[[ 1  2  5]\n",
      " [34  2  6]]\n",
      "\n",
      "After Inserting Row:\n",
      "[[ 1  2]\n",
      " [99 99]\n",
      " [34  2]]\n",
      "\n",
      "After Inserting Column:\n",
      "[[  1 100   2]\n",
      " [ 34 200   2]]\n"
     ]
    }
   ],
   "source": [
    "# Step 1: Create the original 2D array\n",
    "a = np.array([[1, 2], [34, 2]])\n",
    "print(\"Original 2D Array:\")\n",
    "print(a)\n",
    "# Step 2: Append a new row\n",
    "b = np.append(a, [[44, 45]], axis=0)\n",
    "print(\"\\nAfter Appending Row:\")\n",
    "print(b)\n",
    "# Step 3: Append a new column\n",
    "c = np.append(a, [[5], [6]], axis=1)\n",
    "print(\"\\nAfter Appending Column:\")\n",
    "print(c)\n",
    "# Step 4: Insert a new row at index 1\n",
    "d = np.insert(a, 1, [[99, 99]], axis=0)\n",
    "print(\"\\nAfter Inserting Row:\")\n",
    "print(d)\n",
    "# Step 5: Insert a new column at index 1\n",
    "e = np.insert(a, 1, [100, 200], axis=1)\n",
    "print(\"\\nAfter Inserting Column:\")\n",
    "print(e)"
   ]
  },
  {
   "cell_type": "code",
   "execution_count": 134,
   "id": "32629ce7-d9e3-4cc3-8e6b-bc04cd415789",
   "metadata": {},
   "outputs": [
    {
     "name": "stdout",
     "output_type": "stream",
     "text": [
      "[[ 1]\n",
      " [34]]\n",
      "2\n"
     ]
    }
   ],
   "source": [
    "a = np.array([[1, 2], [34, 2]])\n",
    "b=np.delete(a,1,axis=1)\n",
    "print(b)\n",
    "print(b.ndim)\n"
   ]
  },
  {
   "cell_type": "code",
   "execution_count": 123,
   "id": "d9504643-5674-41be-ac54-2411113a0dd9",
   "metadata": {},
   "outputs": [
    {
     "name": "stdout",
     "output_type": "stream",
     "text": [
      "[1 2 3]\n",
      "['1' '2' '3' 'hi']\n"
     ]
    }
   ],
   "source": [
    "a=np.array([1,2,3])\n",
    "print(a)\n",
    "b=np.append(a,\"hi\")\n",
    "print(b)\n",
    "# c=np.insert(a,1,\"hi\")\n",
    "# print(c)"
   ]
  },
  {
   "cell_type": "code",
   "execution_count": 153,
   "id": "da93e022-7d51-4539-a12e-0eb708360e9f",
   "metadata": {},
   "outputs": [
    {
     "name": "stdout",
     "output_type": "stream",
     "text": [
      "Index of value 4: (array([3], dtype=int64),)\n",
      "Array after deleting the value:\n",
      "[1 2 3 5 6]\n"
     ]
    }
   ],
   "source": [
    "a = np.array([1, 2, 3, 4, 5, 6])\n",
    "# Find the index of the value 4\n",
    "x = np.where(a == 4)\n",
    "print(\"Index of value 4:\", x)\n",
    "# Delete the element at the found index\n",
    "b = np.delete(a, x[0])\n",
    "print(\"Array after deleting the value:\")\n",
    "print(b)"
   ]
  },
  {
   "cell_type": "code",
   "execution_count": 155,
   "id": "62a04d9a-2dfc-46e8-b07a-b246604f883e",
   "metadata": {},
   "outputs": [
    {
     "name": "stdout",
     "output_type": "stream",
     "text": [
      "Array after deleting the value:\n",
      "[1 2 3 5 6]\n"
     ]
    }
   ],
   "source": [
    "a = np.array([1, 2, 3, 4, 5, 6])\n",
    "b = np.delete(a, np.where(a==4))\n",
    "print(\"Array after deleting the value:\")\n",
    "print(b)"
   ]
  },
  {
   "cell_type": "code",
   "execution_count": 169,
   "id": "d1dbe613-344e-4c53-8d67-aced574b9175",
   "metadata": {},
   "outputs": [
    {
     "data": {
      "text/plain": [
       "[array([[1, 2, 3]]), array([[4, 5, 6]]), array([[7, 8, 9]])]"
      ]
     },
     "execution_count": 169,
     "metadata": {},
     "output_type": "execute_result"
    }
   ],
   "source": [
    "a = np.array([[1, 2, 3], \n",
    "              [4, 5, 6], \n",
    "              [7, 8, 9]])\n",
    "np.split(a, 3, axis=0)\n"
   ]
  },
  {
   "cell_type": "code",
   "execution_count": 171,
   "id": "668b2395-0ca4-4266-a80c-0ca9e3c2c599",
   "metadata": {},
   "outputs": [
    {
     "data": {
      "text/plain": [
       "[array([[1],\n",
       "        [4],\n",
       "        [7]]),\n",
       " array([[2],\n",
       "        [5],\n",
       "        [8]]),\n",
       " array([[3],\n",
       "        [6],\n",
       "        [9]])]"
      ]
     },
     "execution_count": 171,
     "metadata": {},
     "output_type": "execute_result"
    }
   ],
   "source": [
    "np.split(a, 3, axis=1)"
   ]
  },
  {
   "cell_type": "code",
   "execution_count": 173,
   "id": "9edbb3a7-5c0c-4c94-a4ff-c5ecf5b25396",
   "metadata": {},
   "outputs": [
    {
     "data": {
      "text/plain": [
       "[array([[1, 2, 3]]), array([[4, 5, 6]]), array([[7, 8, 9]])]"
      ]
     },
     "execution_count": 173,
     "metadata": {},
     "output_type": "execute_result"
    }
   ],
   "source": [
    "np.array_split(a,3)"
   ]
  },
  {
   "cell_type": "code",
   "execution_count": 187,
   "id": "70c9e144-836a-47f0-af57-14233d2ee178",
   "metadata": {},
   "outputs": [
    {
     "name": "stdout",
     "output_type": "stream",
     "text": [
      "[array([1, 2, 3]), array([4, 5, 6]), array([7, 8])]\n",
      "[array([1, 2, 3, 4]), array([5, 6, 7, 8])]\n"
     ]
    }
   ],
   "source": [
    "a=np.array([1,2,3,4,5,6,7,8])\n",
    "x=np.array_split(a,3)\n",
    "print(x)\n",
    "y=np.split(a,2)\n",
    "print(y)"
   ]
  },
  {
   "cell_type": "code",
   "execution_count": 201,
   "id": "06aaebed-7f24-406d-a162-9f9cbc3da6f3",
   "metadata": {},
   "outputs": [
    {
     "name": "stdout",
     "output_type": "stream",
     "text": [
      "[array([1]), array([2]), array([3, 4, 5, 6, 7])]\n",
      "[array([1]), array([2, 3, 4, 5]), array([6, 7])]\n",
      "[array([1, 2]), array([3, 4, 5]), array([6, 7])]\n"
     ]
    }
   ],
   "source": [
    "a = np.array([1, 2, 3, 4, 5, 6, 7])\n",
    "b= np.split(a, [1, 2]) \n",
    "print(b)\n",
    "c=np.array_split(a, [1, 5]) \n",
    "print(c)\n",
    "d= np.split(a, [2, 5])\n",
    "print(d)"
   ]
  },
  {
   "cell_type": "code",
   "execution_count": 209,
   "id": "abccb686-f5bc-4f13-a187-de1c7f8e85bc",
   "metadata": {},
   "outputs": [
    {
     "name": "stdout",
     "output_type": "stream",
     "text": [
      "[ 6  7  8  9 10]\n",
      "[-1  0  1  2  3]\n",
      "[ 3  6  9 12 15]\n",
      "[0.5 1.  1.5 2.  2.5]\n",
      "[ 1  4  9 16 25]\n",
      "[ 3  5  7  9 11]\n",
      "[-1 -1 -1 -1 -1]\n",
      "[0.5        0.66666667 0.75       0.8        0.83333333]\n",
      "[ 2  6 12 20 30]\n",
      "[    1     8    81  1024 15625]\n"
     ]
    }
   ],
   "source": [
    "# element operation\n",
    "a = np.array([1, 2, 3, 4, 5])\n",
    "add = a + 5  \n",
    "print(add)\n",
    "sub= a - 2  \n",
    "print(sub)\n",
    "mul = a * 3 \n",
    "print(mul)\n",
    "div = a / 2  \n",
    "print(div)\n",
    "sq = a**2\n",
    "print(sq)\n",
    "b=np.array([2,3,4,5,6])\n",
    "print(a+b)\n",
    "print(a-b)\n",
    "print(a/b)\n",
    "print(a*b)\n",
    "print(a**b)"
   ]
  },
  {
   "cell_type": "code",
   "execution_count": 221,
   "id": "d16ed55b-c851-4e08-abdb-9ee98ba1af8c",
   "metadata": {},
   "outputs": [
    {
     "name": "stdout",
     "output_type": "stream",
     "text": [
      "[3 3 3]\n",
      "[5 7 9]\n",
      "[ 4 10 18]\n",
      "[4.  2.5 2. ]\n",
      "[1.         1.41421356 1.73205081]\n"
     ]
    }
   ],
   "source": [
    "a=np.array([1,2,3])\n",
    "b=np.array([4,5,6])\n",
    "c=np.subtract(b,a)\n",
    "print(c)\n",
    "d=np.add(b,a)\n",
    "print(d)\n",
    "e=np.multiply(b,a)\n",
    "print(e)\n",
    "f=np.divide(b,a)\n",
    "print(f)\n",
    "g=np.sqrt(a)\n",
    "print(g)"
   ]
  },
  {
   "cell_type": "code",
   "execution_count": 227,
   "id": "507eab4f-be96-4cc0-99d2-20f38bf3de18",
   "metadata": {},
   "outputs": [
    {
     "name": "stdout",
     "output_type": "stream",
     "text": [
      "0.0\n",
      "0.5403023058681398\n",
      "1.5574077246549023\n",
      "2.302585092994046\n",
      "0.0\n",
      "148.4131591025766\n"
     ]
    }
   ],
   "source": [
    "a=np.sin(0)\n",
    "print(a)\n",
    "b=np.cos(1)\n",
    "print(b)\n",
    "c=np.tan(1)\n",
    "print(c)\n",
    "d=np.log(10)\n",
    "print(d)\n",
    "e=np.log10(1)\n",
    "print(e)\n",
    "f=np.exp(5)\n",
    "print(f)"
   ]
  },
  {
   "cell_type": "code",
   "execution_count": 232,
   "id": "e87998e5-6b67-4473-9a70-86bb43ede9cc",
   "metadata": {},
   "outputs": [
    {
     "name": "stdout",
     "output_type": "stream",
     "text": [
      "0.816496580927726\n"
     ]
    }
   ],
   "source": [
    "a=np.array([1,2,3])\n",
    "b=np.std(a)\n",
    "print(b)"
   ]
  },
  {
   "cell_type": "code",
   "execution_count": 14,
   "id": "a6575666-b744-4809-9bfb-d57346e7d27c",
   "metadata": {},
   "outputs": [
    {
     "name": "stdout",
     "output_type": "stream",
     "text": [
      "Converted to float type: [1. 2. 3. 4. 5.]\n"
     ]
    }
   ],
   "source": [
    "# Convert an Array to Float Type\n",
    "import numpy as np\n",
    "arr = np.array([1, 2, 3, 4, 5])\n",
    "# Convert to float type\n",
    "float_arr = arr.astype(float)\n",
    "print(\"Converted to float type:\", float_arr)\n"
   ]
  },
  {
   "cell_type": "code",
   "execution_count": 18,
   "id": "5492bd10-e776-4f7a-9394-1f67f4ff7861",
   "metadata": {},
   "outputs": [
    {
     "name": "stdout",
     "output_type": "stream",
     "text": [
      "8x8 Checkerboard Pattern:\n",
      " [[0 1 0 1 0 1 0 1]\n",
      " [1 0 1 0 1 0 1 0]\n",
      " [0 1 0 1 0 1 0 1]\n",
      " [1 0 1 0 1 0 1 0]\n",
      " [0 1 0 1 0 1 0 1]\n",
      " [1 0 1 0 1 0 1 0]\n",
      " [0 1 0 1 0 1 0 1]\n",
      " [1 0 1 0 1 0 1 0]]\n"
     ]
    }
   ],
   "source": [
    "# Create an 8x8 Checkerboard Pattern\n",
    "import numpy as np\n",
    "\n",
    "# Create an 8x8 checkerboard pattern\n",
    "checkerboard = np.zeros((8, 8), dtype=int)\n",
    "checkerboard[1::2, ::2] = 1\n",
    "checkerboard[::2, 1::2] = 1\n",
    "print(\"8x8 Checkerboard Pattern:\\n\", checkerboard)\n"
   ]
  },
  {
   "cell_type": "code",
   "execution_count": 20,
   "id": "3d2a0cc9-5e01-4235-ae1e-5ae358928095",
   "metadata": {},
   "outputs": [
    {
     "name": "stdout",
     "output_type": "stream",
     "text": [
      "Centigrade to Fahrenheit:\n",
      " [ 32.  68.  86. 212.]\n"
     ]
    }
   ],
   "source": [
    "# Convert Centigrade to Fahrenheit\n",
    "import numpy as np\n",
    "\n",
    "# Centigrade values\n",
    "centigrade = np.array([0, 20, 30, 100])\n",
    "# Convert to Fahrenheit\n",
    "fahrenheit = (centigrade * 9/5) + 32\n",
    "print(\"Centigrade to Fahrenheit:\\n\", fahrenheit)\n"
   ]
  },
  {
   "cell_type": "code",
   "execution_count": 22,
   "id": "60522351-ff36-4b0c-9f5a-8772a309d6a6",
   "metadata": {},
   "outputs": [
    {
     "name": "stdout",
     "output_type": "stream",
     "text": [
      "Number of elements: 5\n",
      "Length of one element in bytes: 4\n",
      "Total bytes consumed by the elements: 20\n"
     ]
    }
   ],
   "source": [
    "# Find the Number of Elements, Length of One Element, and Total Bytes Consumed\n",
    "import numpy as np\n",
    "\n",
    "# Create an array\n",
    "arr = np.array([1, 2, 3, 4, 5])\n",
    "# Number of elements\n",
    "num_elements = arr.size\n",
    "# Length of one element in bytes\n",
    "element_size = arr.itemsize\n",
    "# Total bytes consumed\n",
    "total_bytes = arr.nbytes\n",
    "\n",
    "print(\"Number of elements:\", num_elements)\n",
    "print(\"Length of one element in bytes:\", element_size)\n",
    "print(\"Total bytes consumed by the elements:\", total_bytes)\n"
   ]
  },
  {
   "cell_type": "code",
   "execution_count": 24,
   "id": "e1077326-b76b-4db7-abbb-7bf48492f597",
   "metadata": {},
   "outputs": [
    {
     "name": "stdout",
     "output_type": "stream",
     "text": [
      "Elements of arr1 present in arr2: [False False  True  True  True]\n"
     ]
    }
   ],
   "source": [
    "# Test Whether Each Element of a 1-D Array is Present in a Second Array\n",
    "import numpy as np\n",
    "\n",
    "# Define two arrays\n",
    "arr1 = np.array([1, 2, 3, 4, 5])\n",
    "arr2 = np.array([3, 4, 5, 6, 7])\n",
    "# Test membership\n",
    "membership = np.isin(arr1, arr2)\n",
    "print(\"Elements of arr1 present in arr2:\", membership)\n"
   ]
  },
  {
   "cell_type": "code",
   "execution_count": 26,
   "id": "b81fc143-d35f-4d18-84ae-eae8da8f8bfb",
   "metadata": {},
   "outputs": [
    {
     "name": "stdout",
     "output_type": "stream",
     "text": [
      "Common values between arr1 and arr2: [4 5]\n"
     ]
    }
   ],
   "source": [
    "# Find Common Values Between Two Arrays\n",
    "import numpy as np\n",
    "\n",
    "# Define two arrays\n",
    "arr1 = np.array([1, 2, 3, 4, 5])\n",
    "arr2 = np.array([4, 5, 6, 7, 8])\n",
    "# Find common values\n",
    "common_values = np.intersect1d(arr1, arr2)\n",
    "print(\"Common values between arr1 and arr2:\", common_values)\n"
   ]
  },
  {
   "cell_type": "code",
   "execution_count": 164,
   "id": "1a6bb5ff-0bdf-4777-8ea4-0129ccf8cf97",
   "metadata": {},
   "outputs": [
    {
     "name": "stdout",
     "output_type": "stream",
     "text": [
      "After removing specific elements: [ 20  30  60  70  80  90 100]\n"
     ]
    }
   ],
   "source": [
    "#  Remove Specific Elements from an Array\n",
    "import numpy as np\n",
    "\n",
    "# Original array\n",
    "arr = np.array([10, 20, 30, 40, 50, 60, 70, 80, 90, 100])\n",
    "# Indices to delete: 0 (first), 3 (fourth), and 4 (fifth)\n",
    "indices_to_delete = [0, 3, 4]\n",
    "\n",
    "# Create a new array without the specified elements\n",
    "new_arr = np.delete(arr, indices_to_delete)\n",
    "print(\"After removing specific elements:\", new_arr)\n"
   ]
  },
  {
   "cell_type": "code",
   "execution_count": 166,
   "id": "e20bc1d0-c0db-4052-aa02-8f4384fc1b52",
   "metadata": {},
   "outputs": [
    {
     "name": "stdout",
     "output_type": "stream",
     "text": [
      "After replacing negatives with 0: [0 0 0 2 3 4 5 0]\n"
     ]
    }
   ],
   "source": [
    "# Replace Negative Values with 0\n",
    "# Original array\n",
    "arr = np.array([-1, -4, 0, 2, 3, 4, 5, -6])\n",
    "\n",
    "# Replace negative values with 0\n",
    "arr[arr < 0] = 0\n",
    "print(\"After replacing negatives with 0:\", arr)\n"
   ]
  },
  {
   "cell_type": "code",
   "execution_count": 168,
   "id": "6679f603-51ea-47d4-9b4f-4d567f5689e6",
   "metadata": {},
   "outputs": [
    {
     "name": "stdout",
     "output_type": "stream",
     "text": [
      "Array of 10 zeros, 10 ones, and 10 fives: [0. 0. 0. 0. 0. 0. 0. 0. 0. 0. 1. 1. 1. 1. 1. 1. 1. 1. 1. 1. 5. 5. 5. 5.\n",
      " 5. 5. 5. 5. 5. 5.]\n"
     ]
    }
   ],
   "source": [
    "# Create an Array of 10 Zeros, 10 Ones, and 10 Fives\n",
    "# Create arrays\n",
    "zeros = np.zeros(10)\n",
    "ones = np.ones(10)\n",
    "fives = np.full(10, 5)\n",
    "\n",
    "# Concatenate the arrays\n",
    "combined = np.concatenate((zeros, ones, fives))\n",
    "print(\"Array of 10 zeros, 10 ones, and 10 fives:\", combined)\n"
   ]
  },
  {
   "cell_type": "code",
   "execution_count": 170,
   "id": "07f506bf-23f9-4ea4-b6f9-a3e1754d9204",
   "metadata": {},
   "outputs": [
    {
     "name": "stdout",
     "output_type": "stream",
     "text": [
      "Array of integers from 30 to 70: [30 31 32 33 34 35 36 37 38 39 40 41 42 43 44 45 46 47 48 49 50 51 52 53\n",
      " 54 55 56 57 58 59 60 61 62 63 64 65 66 67 68 69 70]\n"
     ]
    }
   ],
   "source": [
    "# Create an Array of Integers from 30 to 70\n",
    "# Create an array of integers from 30 to 70\n",
    "arr = np.arange(30, 71)\n",
    "print(\"Array of integers from 30 to 70:\", arr)\n"
   ]
  },
  {
   "cell_type": "code",
   "execution_count": 172,
   "id": "644cc48e-aaa0-482e-9eb5-faeccff1148d",
   "metadata": {},
   "outputs": [
    {
     "name": "stdout",
     "output_type": "stream",
     "text": [
      "Array of even integers from 30 to 70: [30 32 34 36 38 40 42 44 46 48 50 52 54 56 58 60 62 64 66 68 70]\n"
     ]
    }
   ],
   "source": [
    "# Create an array of even integers from 30 to 70\n",
    "even_arr = np.arange(30, 71, 2)\n",
    "print(\"Array of even integers from 30 to 70:\", even_arr)\n"
   ]
  },
  {
   "cell_type": "code",
   "execution_count": 174,
   "id": "a7386b3a-883c-48f8-89f4-5ad1173f68bd",
   "metadata": {},
   "outputs": [
    {
     "name": "stdout",
     "output_type": "stream",
     "text": [
      "Random number between 0 and 1: 0.6465764597884672\n"
     ]
    }
   ],
   "source": [
    "# Generate a random number between 0 and 1\n",
    "random_number = np.random.rand()\n",
    "print(\"Random number between 0 and 1:\", random_number)\n"
   ]
  },
  {
   "cell_type": "code",
   "execution_count": 176,
   "id": "31d50d85-9bc1-45c2-9f89-b5ad212ff638",
   "metadata": {},
   "outputs": [
    {
     "name": "stdout",
     "output_type": "stream",
     "text": [
      "3x3 matrix with values from 2 to 10:\n",
      " [[ 2  3  4]\n",
      " [ 5  6  7]\n",
      " [ 8  9 10]]\n"
     ]
    }
   ],
   "source": [
    "# Create a 3x3 matrix with values from 2 to 10\n",
    "matrix = np.arange(2, 11).reshape(3, 3)\n",
    "print(\"3x3 matrix with values from 2 to 10:\\n\", matrix)\n"
   ]
  },
  {
   "cell_type": "code",
   "execution_count": 178,
   "id": "bfbd5931-ee4a-44a4-97a0-92657f2a292c",
   "metadata": {},
   "outputs": [
    {
     "name": "stdout",
     "output_type": "stream",
     "text": [
      "Original array: [12 13 14 15 16 17 18 19 20 21 22 23 24 25 26 27 28 29 30 31 32 33 34 35\n",
      " 36 37]\n",
      "Reversed array: [37 36 35 34 33 32 31 30 29 28 27 26 25 24 23 22 21 20 19 18 17 16 15 14\n",
      " 13 12]\n"
     ]
    }
   ],
   "source": [
    "# Original array\n",
    "arr = np.arange(12, 38)  # Equivalent to [12, 13, ..., 37]\n",
    "print(\"Original array:\", arr)\n",
    "\n",
    "# Reverse the array\n",
    "reversed_arr = arr[::-1]\n",
    "print(\"Reversed array:\", reversed_arr)\n"
   ]
  },
  {
   "cell_type": "code",
   "execution_count": 180,
   "id": "fa13fa68-2905-4c3f-a7c7-8b47d698805f",
   "metadata": {},
   "outputs": [
    {
     "name": "stdout",
     "output_type": "stream",
     "text": [
      "After appending values: [10 20 30 40 50 60 70 80 90]\n"
     ]
    }
   ],
   "source": [
    "# Original array\n",
    "original_arr = np.array([10, 20, 30])\n",
    "values_to_append = [40, 50, 60, 70, 80, 90]\n",
    "\n",
    "# Append values\n",
    "appended_arr = np.append(original_arr, values_to_append)\n",
    "print(\"After appending values:\", appended_arr)\n"
   ]
  },
  {
   "cell_type": "code",
   "execution_count": 182,
   "id": "7d503484-c248-4a34-bafc-eff40bc2de9d",
   "metadata": {},
   "outputs": [
    {
     "name": "stdout",
     "output_type": "stream",
     "text": [
      "Unique sorted array of values in either array: [ 0 10 20 30 40 50 60 70 80]\n"
     ]
    }
   ],
   "source": [
    "# Define the two arrays\n",
    "array1 = np.array([0, 10, 20, 40, 60, 80])\n",
    "array2 = np.array([10, 30, 40, 50, 70])\n",
    "\n",
    "# Find the union\n",
    "union_array = np.union1d(array1, array2)\n",
    "print(\"Unique sorted array of values in either array:\", union_array)\n"
   ]
  },
  {
   "cell_type": "code",
   "execution_count": 3,
   "id": "282ef7e7-6f80-48f4-bae8-c8e386423cf2",
   "metadata": {},
   "outputs": [
    {
     "name": "stdout",
     "output_type": "stream",
     "text": [
      "[1. 1. 1. 1.]\n"
     ]
    }
   ],
   "source": [
    "import numpy as np\n",
    "a=np.ones(4)\n",
    "print(a)"
   ]
  },
  {
   "cell_type": "code",
   "execution_count": 8,
   "id": "d45a85bb-fd58-449d-b76c-00bebded9fc0",
   "metadata": {},
   "outputs": [
    {
     "name": "stdout",
     "output_type": "stream",
     "text": [
      "[[1. 1. 1. 1.]\n",
      " [1. 1. 1. 1.]\n",
      " [1. 1. 1. 1.]\n",
      " [1. 1. 1. 1.]]\n"
     ]
    }
   ],
   "source": [
    "a=np.ones((4,4))\n",
    "print(a)"
   ]
  },
  {
   "cell_type": "code",
   "execution_count": 6,
   "id": "2348d6d4-5b78-4da0-9376-ef25d0610f64",
   "metadata": {},
   "outputs": [
    {
     "name": "stdout",
     "output_type": "stream",
     "text": [
      "[[1. 0. 0.]\n",
      " [0. 1. 0.]\n",
      " [0. 0. 1.]]\n"
     ]
    }
   ],
   "source": [
    "a=np.identity(3)\n",
    "print(a)"
   ]
  },
  {
   "cell_type": "code",
   "execution_count": 12,
   "id": "6a0dc892-6879-444f-9788-1db36a193dcd",
   "metadata": {},
   "outputs": [
    {
     "name": "stdout",
     "output_type": "stream",
     "text": [
      "[1 2 3 4 6 5]\n"
     ]
    }
   ],
   "source": [
    "a=np.array([[1,2,3],[4,6,5]])\n",
    "b=np.ravel(a)\n",
    "print(b)"
   ]
  },
  {
   "cell_type": "code",
   "execution_count": 46,
   "id": "0648b97f-547e-4e1d-899f-034258cc256d",
   "metadata": {},
   "outputs": [
    {
     "name": "stdout",
     "output_type": "stream",
     "text": [
      "Original: [ 3.7 -3.7  2.7  3.5 -3.5  1.5  1.6]\n",
      "Floored: [ 3. -4.  2.  3. -4.  1.  1.]\n",
      "Ceiled: [ 4. -3.  3.  4. -3.  2.  2.]\n",
      "Rounded: [ 4. -4.  3.  4. -4.  2.  2.]\n",
      "-3.7\n",
      "3.7\n"
     ]
    }
   ],
   "source": [
    "import numpy as np\n",
    "a= np.array([3.7, -3.7, 2.7, 3.5, -3.5,1.5,1.6])\n",
    "f = np.floor(a)\n",
    "c = np.ceil(a)\n",
    "r = np.round(a)\n",
    "print(\"Original:\", a)\n",
    "print(\"Floored:\", f)\n",
    "print(\"Ceiled:\", c)\n",
    "print(\"Rounded:\", r)\n",
    "\n",
    "y=np.min(a)\n",
    "print(y)\n",
    "\n",
    "y=np.max(a)\n",
    "print(y)"
   ]
  },
  {
   "cell_type": "code",
   "execution_count": 48,
   "id": "9e8eae81-2d7c-4c35-bceb-db54a9c01a53",
   "metadata": {},
   "outputs": [
    {
     "name": "stdout",
     "output_type": "stream",
     "text": [
      "Original: [5.5 2.5 3.5 4.5]\n",
      "Floored: [5. 2. 3. 4.]\n",
      "Ceiled: [6. 3. 4. 5.]\n",
      "Rounded: [6. 2. 4. 4.]\n"
     ]
    }
   ],
   "source": [
    "a=np.array([5.5,2.5,3.5,4.5])\n",
    "f = np.floor(a)\n",
    "c = np.ceil(a)\n",
    "r = np.round(a)\n",
    "print(\"Original:\", a)\n",
    "print(\"Floored:\", f)\n",
    "print(\"Ceiled:\", c)\n",
    "print(\"Rounded:\", r)"
   ]
  },
  {
   "cell_type": "code",
   "execution_count": 64,
   "id": "3d11c4c4-d2c1-4b3c-ade8-60dc46ea868b",
   "metadata": {},
   "outputs": [
    {
     "name": "stdout",
     "output_type": "stream",
     "text": [
      "[[1. 1. 1.]\n",
      " [1. 1. 1.]]\n",
      "[[5 5]\n",
      " [5 5]\n",
      " [5 5]]\n",
      "----------\n",
      "[[15. 15.]\n",
      " [15. 15.]]\n"
     ]
    }
   ],
   "source": [
    "a=np.ones((2,3))\n",
    "b=np.full((3,2),5)\n",
    "print(a)\n",
    "print(b)\n",
    "print(\"----------\")\n",
    "out=np.matmul(a,b)\n",
    "print(out)"
   ]
  },
  {
   "cell_type": "code",
   "execution_count": 82,
   "id": "9c15689e-5728-4614-9eaf-368e50fd3bb9",
   "metadata": {},
   "outputs": [
    {
     "name": "stdout",
     "output_type": "stream",
     "text": [
      "\n",
      "Determinant of Matrix a:\n",
      "-2.0000000000000004\n"
     ]
    }
   ],
   "source": [
    "a=np.array([[1, 2],[3, 4]])\n",
    "# Attempt to calculate the determinant\n",
    "det_a = np.linalg.det(a)\n",
    "print(\"\\nDeterminant of Matrix a:\")\n",
    "print(det_a)\n"
   ]
  },
  {
   "cell_type": "code",
   "execution_count": 97,
   "id": "c260d143-5f6b-4153-882c-c82a24b1cbee",
   "metadata": {},
   "outputs": [
    {
     "name": "stdout",
     "output_type": "stream",
     "text": [
      "[2 3 4 5 6 7 7 6 1]\n"
     ]
    }
   ],
   "source": [
    "data=np.genfromtxt('abc.txt',delimiter=',')\n",
    "new_data=data.astype('int32')\n",
    "print(new_data)"
   ]
  },
  {
   "cell_type": "code",
   "execution_count": 109,
   "id": "82923044-2d87-4133-99d3-a9e46f36f59a",
   "metadata": {},
   "outputs": [
    {
     "name": "stdout",
     "output_type": "stream",
     "text": [
      "[False False False False  True  True  True  True False]\n",
      "[False False False  True  True  True  True  True False]\n",
      "[ True  True  True False False False False False  True]\n",
      "[ True  True  True  True False False False False  True]\n",
      "[False False False  True False False False False False]\n"
     ]
    }
   ],
   "source": [
    "print(new_data>5)\n",
    "print(new_data>=5)\n",
    "print(new_data<5)\n",
    "print(new_data<=5)\n",
    "print(new_data==5)"
   ]
  },
  {
   "cell_type": "code",
   "execution_count": 115,
   "id": "911141bf-f0b7-4e7f-8ca8-5704cf23b196",
   "metadata": {},
   "outputs": [
    {
     "data": {
      "text/plain": [
       "array([False, False])"
      ]
     },
     "execution_count": 115,
     "metadata": {},
     "output_type": "execute_result"
    }
   ],
   "source": [
    "a=np.array([[1,2,3],[4,5,6]])\n",
    "np.all(a>5,axis=1)"
   ]
  },
  {
   "cell_type": "code",
   "execution_count": 117,
   "id": "03647db4-d72b-466e-baea-b99a0acce279",
   "metadata": {},
   "outputs": [
    {
     "data": {
      "text/plain": [
       "array([False, False, False])"
      ]
     },
     "execution_count": 117,
     "metadata": {},
     "output_type": "execute_result"
    }
   ],
   "source": [
    "a=np.array([[1,2,3],[4,5,6]])\n",
    "np.all(a>5,axis=0)"
   ]
  },
  {
   "cell_type": "code",
   "execution_count": 123,
   "id": "a4d0c63c-d1a1-4e55-82a4-d0bf4df32ce8",
   "metadata": {},
   "outputs": [
    {
     "data": {
      "text/plain": [
       "array([6])"
      ]
     },
     "execution_count": 123,
     "metadata": {},
     "output_type": "execute_result"
    }
   ],
   "source": [
    "a=np.array([[1,2,3],[4,5,6]])\n",
    "a[a>5]"
   ]
  },
  {
   "cell_type": "code",
   "execution_count": 133,
   "id": "88304b6b-a73f-4552-88fb-f641ab79422d",
   "metadata": {},
   "outputs": [
    {
     "data": {
      "text/plain": [
       "array([4])"
      ]
     },
     "execution_count": 133,
     "metadata": {},
     "output_type": "execute_result"
    }
   ],
   "source": [
    "a=np.array([[1,2,3],[4,5,6]])\n",
    "a[((a<5) & (a>3))]"
   ]
  },
  {
   "cell_type": "code",
   "execution_count": 135,
   "id": "42553dd8-7c87-405c-a37d-b6f53704e626",
   "metadata": {},
   "outputs": [
    {
     "data": {
      "text/plain": [
       "array([2, 4, 6])"
      ]
     },
     "execution_count": 135,
     "metadata": {},
     "output_type": "execute_result"
    }
   ],
   "source": [
    "a=np.array([[1,2,3],[4,5,6]])\n",
    "a[a%2==0]"
   ]
  },
  {
   "cell_type": "code",
   "execution_count": 139,
   "id": "f183b6a3-9c16-41a7-a622-d94b7c22cf3d",
   "metadata": {},
   "outputs": [
    {
     "data": {
      "text/plain": [
       "array([False, False,  True])"
      ]
     },
     "execution_count": 139,
     "metadata": {},
     "output_type": "execute_result"
    }
   ],
   "source": [
    "a=np.array([1,2,3])\n",
    "b=np.array([2,4,3])\n",
    "np.equal(a,b)"
   ]
  },
  {
   "cell_type": "code",
   "execution_count": 141,
   "id": "3dc0deca-2bb1-4279-a010-f77a0ab7aff6",
   "metadata": {},
   "outputs": [
    {
     "data": {
      "text/plain": [
       "False"
      ]
     },
     "execution_count": 141,
     "metadata": {},
     "output_type": "execute_result"
    }
   ],
   "source": [
    "a=np.array([1,2,3])\n",
    "b=np.array([2,4,3])\n",
    "np.array_equal(a,b)"
   ]
  },
  {
   "cell_type": "code",
   "execution_count": 184,
   "id": "50e7c1c7-5240-45ac-b652-2abbf9c2d605",
   "metadata": {},
   "outputs": [
    {
     "name": "stdout",
     "output_type": "stream",
     "text": [
      "[[11 22 33]\n",
      " [14 25 36]]\n",
      "Sum of all elements: 141\n"
     ]
    }
   ],
   "source": [
    "# Create a 2D array\n",
    "x = np.array([[1, 2, 3],\n",
    "              [4, 5, 6]])\n",
    "\n",
    "# Create a 1D array\n",
    "y = np.array([10, 20, 30])\n",
    "\n",
    "# Broadcasting happens here with addition\n",
    "result = np.add(x, y)  # y is broadcasted to each row of x\n",
    "print(result)\n",
    "\n",
    "# Sum the resulting array\n",
    "sum_result = np.sum(result)\n",
    "print(\"Sum of all elements:\", sum_result)\n"
   ]
  },
  {
   "cell_type": "code",
   "execution_count": 189,
   "id": "ccf2352c-22c0-4d4e-b284-e4ce43812568",
   "metadata": {},
   "outputs": [
    {
     "name": "stdout",
     "output_type": "stream",
     "text": [
      "[[11 22 33]\n",
      " [14 25 36]]\n",
      "Sum of all elements: 141\n"
     ]
    }
   ],
   "source": [
    "x = np.array([[1, 2, 3],[4, 5, 6]])\n",
    "\n",
    "y = np.array([10, 20, 30])\n",
    "result = np.add(x, y)  \n",
    "print(result)\n",
    "\n",
    "sum_result = np.sum(result)\n",
    "print(\"Sum of all elements:\", sum_result)\n"
   ]
  }
 ],
 "metadata": {
  "kernelspec": {
   "display_name": "Python 3 (ipykernel)",
   "language": "python",
   "name": "python3"
  },
  "language_info": {
   "codemirror_mode": {
    "name": "ipython",
    "version": 3
   },
   "file_extension": ".py",
   "mimetype": "text/x-python",
   "name": "python",
   "nbconvert_exporter": "python",
   "pygments_lexer": "ipython3",
   "version": "3.12.4"
  }
 },
 "nbformat": 4,
 "nbformat_minor": 5
}
